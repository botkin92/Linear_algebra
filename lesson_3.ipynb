{
  "nbformat": 4,
  "nbformat_minor": 0,
  "metadata": {
    "colab": {
      "name": "lesson_3.ipynb",
      "provenance": [],
      "collapsed_sections": [],
      "authorship_tag": "ABX9TyOdzkNckFwLickKBbhU7Bf+",
      "include_colab_link": true
    },
    "kernelspec": {
      "name": "python3",
      "display_name": "Python 3"
    },
    "language_info": {
      "name": "python"
    }
  },
  "cells": [
    {
      "cell_type": "markdown",
      "metadata": {
        "id": "view-in-github",
        "colab_type": "text"
      },
      "source": [
        "<a href=\"https://colab.research.google.com/github/botkin92/Linear_algebra/blob/lesson_3/lesson_3.ipynb\" target=\"_parent\"><img src=\"https://colab.research.google.com/assets/colab-badge.svg\" alt=\"Open In Colab\"/></a>"
      ]
    },
    {
      "cell_type": "code",
      "metadata": {
        "id": "SWVY_0gNP97q"
      },
      "source": [
        "import numpy as np"
      ],
      "execution_count": null,
      "outputs": []
    },
    {
      "cell_type": "markdown",
      "metadata": {
        "id": "t3Jmmm00QHod"
      },
      "source": [
        "__1.__ Найти собственные векторы и собственные значения для линейного оператора, заданного матрицей\n",
        "\n",
        "$$A=\\begin{pmatrix}\n",
        "-1 & -6\\\\ \n",
        "2 & 6\n",
        "\\end{pmatrix}.$$"
      ]
    },
    {
      "cell_type": "markdown",
      "metadata": {
        "id": "tImNvG_xUP8O"
      },
      "source": [
        "Составим характеристическое уравнение:  \n",
        "$\\begin{vmatrix}\n",
        "-1-\\lambda & -6\\\\ \n",
        "2 & 6-\\lambda\n",
        "\\end{vmatrix}=0.$  \n",
        "Раскроем определитель и решим квадратное уравнение:  \n",
        "$(-1-\\lambda)(6-\\lambda)-2*(-6)=0$  \n",
        "$\\lambda^2-5\\lambda+6=0$\n",
        "$D=25-24=1$, $\\sqrt{D}=1$  \n",
        "$\\lambda_{1}=(5-1)/2=2$  \n",
        "$\\lambda_{2}=(5+1)/2=3$"
      ]
    },
    {
      "cell_type": "markdown",
      "metadata": {
        "id": "29Pe3h-vXi34"
      },
      "source": [
        "Теперь найдём собственные векторы. Пусть $u=\\begin{pmatrix}\n",
        "x_{1}\\\\ \n",
        "x_{2}\n",
        "\\end{pmatrix}$ искомый собственный вектор,  \n",
        "тогда при $λ=2$:  \n",
        "$\\begin{cases}\n",
        "(-1-2)x_{1}-6x_{2}=0, \\\\\n",
        "2x_{1}+(6-2)x_{2}=0.\n",
        "\\end{cases}$  \n",
        "$\\begin{cases}\n",
        "-3x_{1}-6x_{2}=0, \\\\\n",
        "2x_{1}+4x_{2}=0.\n",
        "\\end{cases}$  \n",
        "$x_{1}=-2x_{2}$  \n",
        "По сути решением может быть бесконечное множество собственных векторов вида $u=\\begin{pmatrix} -2a\\\\ a \\end{pmatrix}$, которые которые коллинеарны друг другу. Пусть $x_{1}=2$, тогда $u_{1}=\\begin{pmatrix} 2\\\\ -1 \\end{pmatrix}$"
      ]
    },
    {
      "cell_type": "markdown",
      "metadata": {
        "id": "J0t3Yyozc67O"
      },
      "source": [
        "При $λ=3$:  \n",
        "$\\begin{cases}\n",
        "-4x_{1}-6x_{2}=0, \\\\\n",
        "2x_{1}+3x_{2}=0.\n",
        "\\end{cases}$  \n",
        "$x_{1}=-(2/3)x_{2}$  \n",
        "$u_{2}=\\begin{pmatrix} 2\\\\ -3 \\end{pmatrix}$"
      ]
    },
    {
      "cell_type": "markdown",
      "metadata": {
        "id": "WxAnlwvad85H"
      },
      "source": [
        "Ответ: собственные значения - 2 и 3; собственные векторы - (2, -1), (2, -3)"
      ]
    },
    {
      "cell_type": "code",
      "metadata": {
        "id": "_M4jABQlRBDs"
      },
      "source": [
        "# Проверка\n",
        "A = np.array([[-1, -6], [2, 6]])"
      ],
      "execution_count": null,
      "outputs": []
    },
    {
      "cell_type": "code",
      "metadata": {
        "colab": {
          "base_uri": "https://localhost:8080/"
        },
        "id": "J_oBFEHIRNBv",
        "outputId": "4a75166f-86e5-4258-86ff-81a9814444d4"
      },
      "source": [
        "W, V = np.linalg.eig(A)\n",
        " \n",
        "print(f'Матрица A:\\n{A}')\n",
        "print(f'Собственные значения:\\n{W}')\n",
        "print(f'Собственные векторы:\\n{V}')"
      ],
      "execution_count": null,
      "outputs": [
        {
          "output_type": "stream",
          "name": "stdout",
          "text": [
            "Матрица A:\n",
            "[[-1 -6]\n",
            " [ 2  6]]\n",
            "Собственные значения:\n",
            "[2. 3.]\n",
            "Собственные векторы:\n",
            "[[-0.89442719  0.83205029]\n",
            " [ 0.4472136  -0.5547002 ]]\n"
          ]
        }
      ]
    },
    {
      "cell_type": "markdown",
      "metadata": {
        "id": "QMZhUxK0QRJg"
      },
      "source": [
        "__2.__ Дан оператор поворота на 180 градусов, задаваемый матрицей \n",
        "\n",
        "$$A=\\begin{pmatrix}\n",
        "-1 & 0\\\\ \n",
        "0 & -1\n",
        "\\end{pmatrix}.$$\n",
        "\n",
        "Показать, что __любой__ вектор является для него собственным."
      ]
    },
    {
      "cell_type": "markdown",
      "metadata": {
        "id": "JTqC330Eem-M"
      },
      "source": [
        ""
      ]
    },
    {
      "cell_type": "markdown",
      "metadata": {
        "id": "inKlP7g6enIf"
      },
      "source": [
        "__3.__ Пусть линейный оператор задан матрицей\n",
        "\n",
        "$$A=\\begin{pmatrix}\n",
        "1 & 1\\\\ \n",
        "-1 & 3\n",
        "\\end{pmatrix}.$$\n",
        "\n",
        "Установить, является ли вектор $x=(1,1)$ собственным вектором этого линейного оператора."
      ]
    },
    {
      "cell_type": "markdown",
      "metadata": {
        "id": "UioMv9cRglOT"
      },
      "source": [
        "Предположим, что вектор $x$ является собственным вектором заданного линейного оператора, тогда должно существовать некоторое вещественное число $\\lambda$, при котором  \n",
        "$\\begin{pmatrix}\n",
        "1 & 1\\\\ \n",
        "-1 & 3\n",
        "\\end{pmatrix}\n",
        "\\begin{pmatrix}\n",
        "1\\\\ \n",
        "1 \n",
        "\\end{pmatrix}=\n",
        "\\lambda\n",
        "\\begin{pmatrix}\n",
        "1\\\\ \n",
        "1\n",
        "\\end{pmatrix}.\n",
        "$    \n",
        "Из этого будет следовать, что  \n",
        "$\\begin{cases}\n",
        "1+1=1\\cdot\\lambda \\\\ \n",
        "-1+3= 1\\cdot \\lambda\n",
        "\\end{cases}\n",
        "\\Rightarrow\n",
        "\\lambda=2.$  \n",
        "Вектор $x$ действительно является собственным, т.к. для него существует собственое значение "
      ]
    },
    {
      "cell_type": "markdown",
      "metadata": {
        "id": "tKJOhuTj5ofT"
      },
      "source": [
        "__4.__ Пусть линейный оператор задан матрицей\n",
        "\n",
        "$$A=\\begin{pmatrix} 0 & 3 & 0\\\\ 3 & 0 & 0\\\\ 0 & 0 & 3 \\end{pmatrix}.$$\n",
        "\n",
        "Установить, является ли вектор $x=(3, -3, -4)$ собственным вектором этого линейного оператора."
      ]
    },
    {
      "cell_type": "markdown",
      "metadata": {
        "id": "QjykzsAi5rxY"
      },
      "source": [
        "Предположим, что вектор  $x$  является собственным вектором заданного линейного оператора, тогда должно существовать некоторое вещественное число  $\\lambda$, при котором  \n",
        "$\\begin{pmatrix}\n",
        "0 & 3 & 0\\\\ \n",
        "3 & 0 & 0\\\\\n",
        "0 & 0 & 3\n",
        "\\end{pmatrix}\n",
        "\\begin{pmatrix}\n",
        "3\\\\ \n",
        "-3\\\\\n",
        "-4 \n",
        "\\end{pmatrix}=\n",
        "\\lambda\n",
        "\\begin{pmatrix}\n",
        "3\\\\ \n",
        "-3\\\\\n",
        "-4\n",
        "\\end{pmatrix}.$  \n",
        "Из этого будет следовать, что \n",
        "$\\begin{cases}\n",
        "-9=3\\cdot\\lambda \\\\ \n",
        "9 = -3\\cdot \\lambda \\\\\n",
        "-12= -4\\cdot \\lambda\n",
        "\\end{cases}\n",
        "\\Rightarrow\n",
        "\\begin{cases}\n",
        "\\lambda=-3\\\\ \n",
        "\\lambda=-3\\\\\n",
        "\\lambda=3\n",
        "\\end{cases}.$  \n",
        "Такая система не имеет смысла, а значит, вектор $x=(3, -3, -4)$ не является собственным вектором линейного оператора $A$."
      ]
    }
  ]
}