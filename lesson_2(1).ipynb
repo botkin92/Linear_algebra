{
  "nbformat": 4,
  "nbformat_minor": 0,
  "metadata": {
    "colab": {
      "name": "lesson_2(1).ipynb",
      "provenance": [],
      "collapsed_sections": [],
      "authorship_tag": "ABX9TyM5ReB7ZBoku+THnsoW+5mu",
      "include_colab_link": true
    },
    "kernelspec": {
      "name": "python3",
      "display_name": "Python 3"
    },
    "language_info": {
      "name": "python"
    }
  },
  "cells": [
    {
      "cell_type": "markdown",
      "metadata": {
        "id": "view-in-github",
        "colab_type": "text"
      },
      "source": [
        "<a href=\"https://colab.research.google.com/github/botkin92/Linear_algebra/blob/lesson_2/lesson_2(1).ipynb\" target=\"_parent\"><img src=\"https://colab.research.google.com/assets/colab-badge.svg\" alt=\"Open In Colab\"/></a>"
      ]
    },
    {
      "cell_type": "code",
      "metadata": {
        "id": "v-x27RX3bDgm"
      },
      "source": [
        "import numpy as np"
      ],
      "execution_count": null,
      "outputs": []
    },
    {
      "cell_type": "markdown",
      "metadata": {
        "id": "pqUsnlZvbXjn"
      },
      "source": [
        "__1.__ Установить, какие произведения матриц $AB$ и $BA$ определены, и найти размерности полученных матриц:\n",
        "\n",
        "   а) $A$ — матрица $4\\times 2$, $B$ — матрица $4\\times 2$;\n",
        "    \n",
        "   б) $A$ — матрица $2\\times 5$, $B$ — матрица $5\\times 3$;\n",
        "    \n",
        "   в) $A$ — матрица $8\\times 3$, $B$ — матрица $3\\times 8$;\n",
        "    \n",
        "   г) $A$ — квадратная матрица $4\\times 4$, $B$ — квадратная матрица $4\\times 4$."
      ]
    },
    {
      "cell_type": "markdown",
      "metadata": {
        "id": "jovFlA3FbbAv"
      },
      "source": [
        "а) произведения матриц  AB  и  BA  невозможно  \n",
        "б) размерность матрицы AB - 2 x 3; произведение матриц  BA  невозможно  \n",
        "в) размерность AB - 8 x 8; размерность BA - 3 x 3  \n",
        "г) размерность AB - 4 x 4; размерность BA - 4 x 4"
      ]
    },
    {
      "cell_type": "markdown",
      "metadata": {
        "id": "FpCssNBHbX6b"
      },
      "source": [
        "__2.__ Найти сумму и произведение матриц $A=\\begin{pmatrix}\n",
        "1 & -2\\\\ \n",
        "3 & 0\n",
        "\\end{pmatrix}$ и $B=\\begin{pmatrix}\n",
        "4 & -1\\\\ \n",
        "0 & 5\n",
        "\\end{pmatrix}.$"
      ]
    },
    {
      "cell_type": "code",
      "metadata": {
        "id": "EB_Asq3tf_u3"
      },
      "source": [
        "A = np.array([[1, -2], [3, 0]])\n",
        "B = np.array([[4, -1], [0, 5]])"
      ],
      "execution_count": null,
      "outputs": []
    },
    {
      "cell_type": "code",
      "metadata": {
        "id": "8W-9e7tnhNVZ"
      },
      "source": [
        "# Новая матрица\n",
        "C = np.zeros((2, 2))\n",
        "D = np.zeros((2, 2))"
      ],
      "execution_count": null,
      "outputs": []
    },
    {
      "cell_type": "code",
      "metadata": {
        "colab": {
          "base_uri": "https://localhost:8080/"
        },
        "id": "xJYtgmqvgDKw",
        "outputId": "e1b6ea21-4a1d-46c7-d13f-fde720e5fa11"
      },
      "source": [
        "# Сумма A и B\n",
        "for i in range(A.shape[0]):\n",
        "    for j in range(A.shape[1]):\n",
        "      C[i][j] = A[i][j] + B[i][j]\n",
        "print(C)"
      ],
      "execution_count": null,
      "outputs": [
        {
          "output_type": "stream",
          "name": "stdout",
          "text": [
            "[[ 5. -3.]\n",
            " [ 3.  5.]]\n"
          ]
        }
      ]
    },
    {
      "cell_type": "code",
      "metadata": {
        "colab": {
          "base_uri": "https://localhost:8080/"
        },
        "id": "BGFKTgH0qeb8",
        "outputId": "96e63cf6-8152-4925-8c38-bc0267f5f52a"
      },
      "source": [
        "# Проверка\n",
        "A+B"
      ],
      "execution_count": null,
      "outputs": [
        {
          "output_type": "execute_result",
          "data": {
            "text/plain": [
              "array([[ 5, -3],\n",
              "       [ 3,  5]])"
            ]
          },
          "metadata": {},
          "execution_count": 196
        }
      ]
    },
    {
      "cell_type": "code",
      "metadata": {
        "colab": {
          "base_uri": "https://localhost:8080/"
        },
        "id": "G9w3oDMtloBo",
        "outputId": "5c2aa4e3-822d-4597-b048-557b68365b92"
      },
      "source": [
        "# Произведение A на B\n",
        "for i in range(A.shape[0]):\n",
        "    for j in range(A.shape[1]):\n",
        "      for k in range(A.shape[1]):\n",
        "        D[i][j] += A[i][k] * B[k][j]\n",
        "print(D)"
      ],
      "execution_count": null,
      "outputs": [
        {
          "output_type": "stream",
          "name": "stdout",
          "text": [
            "[[  4. -11.]\n",
            " [ 12.  -3.]]\n"
          ]
        }
      ]
    },
    {
      "cell_type": "code",
      "metadata": {
        "colab": {
          "base_uri": "https://localhost:8080/"
        },
        "id": "UmaPww_eplIf",
        "outputId": "1794282d-7eb5-4ed1-d81a-f73f52d69864"
      },
      "source": [
        "# Проверка\n",
        "A.dot(B)"
      ],
      "execution_count": null,
      "outputs": [
        {
          "output_type": "execute_result",
          "data": {
            "text/plain": [
              "array([[  4, -11],\n",
              "       [ 12,  -3]])"
            ]
          },
          "metadata": {},
          "execution_count": 198
        }
      ]
    },
    {
      "cell_type": "markdown",
      "metadata": {
        "id": "X27N193XdrkM"
      },
      "source": [
        "__3.__ Из закономерностей сложения и умножения матриц на число можно сделать вывод, что матрицы одного размера образуют линейное пространство. Вычислить линейную комбинацию $3A-2B+4C$ для матриц $A=\\begin{pmatrix}\n",
        "1 & 7\\\\ \n",
        "3 & -6\n",
        "\\end{pmatrix}$, $B=\\begin{pmatrix}\n",
        "0 & 5\\\\ \n",
        "2 & -1\n",
        "\\end{pmatrix}$, $C=\\begin{pmatrix}\n",
        "2 & -4\\\\ \n",
        "1 & 1\n",
        "\\end{pmatrix}.$"
      ]
    },
    {
      "cell_type": "code",
      "metadata": {
        "id": "QdGzVrAVrZuK"
      },
      "source": [
        "A = np.array([[1, 7], [3, -6]])\n",
        "B = np.array([[0, 5], [2, -1]])\n",
        "C = np.array([[2, -4], [1, 1,]])"
      ],
      "execution_count": null,
      "outputs": []
    },
    {
      "cell_type": "code",
      "metadata": {
        "colab": {
          "base_uri": "https://localhost:8080/"
        },
        "id": "1KTxM8c3rNAp",
        "outputId": "78d3f567-6aa0-4b7d-8749-2d74a65e5a9e"
      },
      "source": [
        "D = 3*A - 2*B + 4*C\n",
        "D"
      ],
      "execution_count": null,
      "outputs": [
        {
          "output_type": "execute_result",
          "data": {
            "text/plain": [
              "array([[ 11,  -5],\n",
              "       [  9, -12]])"
            ]
          },
          "metadata": {},
          "execution_count": 200
        }
      ]
    },
    {
      "cell_type": "markdown",
      "metadata": {
        "id": "FC6iM0ZUq3vw"
      },
      "source": [
        "__4.__ Дана матрица $A=\\begin{pmatrix}\n",
        "4 & 1\\\\ \n",
        "5 & -2\\\\ \n",
        "2 & 3\n",
        "\\end{pmatrix}$.\n",
        "Вычислить $AA^{T}$ и $A^{T}A$."
      ]
    },
    {
      "cell_type": "code",
      "metadata": {
        "colab": {
          "base_uri": "https://localhost:8080/"
        },
        "id": "DXNwW_aGsDp4",
        "outputId": "af0c1689-7e91-4543-aa54-de6d5b1c8b04"
      },
      "source": [
        "A = np.array([[4, 1], [5, -2], [2, 3]])\n",
        "A"
      ],
      "execution_count": null,
      "outputs": [
        {
          "output_type": "execute_result",
          "data": {
            "text/plain": [
              "array([[ 4,  1],\n",
              "       [ 5, -2],\n",
              "       [ 2,  3]])"
            ]
          },
          "metadata": {},
          "execution_count": 201
        }
      ]
    },
    {
      "cell_type": "code",
      "metadata": {
        "colab": {
          "base_uri": "https://localhost:8080/"
        },
        "id": "27ubLbxaseOt",
        "outputId": "f5597a54-53cf-4c1f-cd0e-194a6f319c7c"
      },
      "source": [
        "AT = np.array([[A[j][i] for j in range(A.shape[0])] for i in range(A.shape[1])])\n",
        "AT"
      ],
      "execution_count": null,
      "outputs": [
        {
          "output_type": "execute_result",
          "data": {
            "text/plain": [
              "array([[ 4,  5,  2],\n",
              "       [ 1, -2,  3]])"
            ]
          },
          "metadata": {},
          "execution_count": 202
        }
      ]
    },
    {
      "cell_type": "code",
      "metadata": {
        "colab": {
          "base_uri": "https://localhost:8080/"
        },
        "id": "R4DggPQVukkG",
        "outputId": "f1602e53-4ea9-4e88-8474-2f5bd05e33c0"
      },
      "source": [
        "AAT = np.zeros((A.shape[0], AT.shape[1]))\n",
        "ATA = np.zeros((AT.shape[0], A.shape[1]))\n",
        "AAT"
      ],
      "execution_count": null,
      "outputs": [
        {
          "output_type": "execute_result",
          "data": {
            "text/plain": [
              "array([[0., 0., 0.],\n",
              "       [0., 0., 0.],\n",
              "       [0., 0., 0.]])"
            ]
          },
          "metadata": {},
          "execution_count": 203
        }
      ]
    },
    {
      "cell_type": "code",
      "metadata": {
        "colab": {
          "base_uri": "https://localhost:8080/"
        },
        "id": "XpXYtYeOsuZj",
        "outputId": "2676cfcc-c7f0-490b-fdcc-d0f8eccbbbde"
      },
      "source": [
        "# Произведение A на AT\n",
        "for i in range(A.shape[0]):\n",
        "    for j in range(AT.shape[1]):\n",
        "      for k in range(A.shape[1]):\n",
        "        AAT[i][j] += A[i][k] * AT[k][j]\n",
        "print(AAT)"
      ],
      "execution_count": null,
      "outputs": [
        {
          "output_type": "stream",
          "name": "stdout",
          "text": [
            "[[17. 18. 11.]\n",
            " [18. 29.  4.]\n",
            " [11.  4. 13.]]\n"
          ]
        }
      ]
    },
    {
      "cell_type": "code",
      "metadata": {
        "colab": {
          "base_uri": "https://localhost:8080/"
        },
        "id": "fQgewAWq1y5h",
        "outputId": "67bcbdbe-84c2-4c0f-db25-2ce76705f41f"
      },
      "source": [
        "# Проверка\n",
        "A.dot(AT)"
      ],
      "execution_count": null,
      "outputs": [
        {
          "output_type": "execute_result",
          "data": {
            "text/plain": [
              "array([[17, 18, 11],\n",
              "       [18, 29,  4],\n",
              "       [11,  4, 13]])"
            ]
          },
          "metadata": {},
          "execution_count": 205
        }
      ]
    },
    {
      "cell_type": "code",
      "metadata": {
        "colab": {
          "base_uri": "https://localhost:8080/"
        },
        "id": "qx24NAd03Jpa",
        "outputId": "249b95d3-b3b8-45f7-e69a-fd9580928704"
      },
      "source": [
        "# Произведение AT на A\n",
        "for i in range(AT.shape[0]):\n",
        "    for j in range(A.shape[1]):\n",
        "      for k in range(AT.shape[1]):\n",
        "        ATA[i][j] += AT[i][k] * A[k][j]\n",
        "print(ATA)"
      ],
      "execution_count": null,
      "outputs": [
        {
          "output_type": "stream",
          "name": "stdout",
          "text": [
            "[[45.  0.]\n",
            " [ 0. 14.]]\n"
          ]
        }
      ]
    },
    {
      "cell_type": "code",
      "metadata": {
        "colab": {
          "base_uri": "https://localhost:8080/"
        },
        "id": "VobiAaKY3XVy",
        "outputId": "3ea66c41-48aa-4a0b-eb77-17dda9d44a05"
      },
      "source": [
        "# Проверка\n",
        "AT.dot(A)"
      ],
      "execution_count": null,
      "outputs": [
        {
          "output_type": "execute_result",
          "data": {
            "text/plain": [
              "array([[45,  0],\n",
              "       [ 0, 14]])"
            ]
          },
          "metadata": {},
          "execution_count": 207
        }
      ]
    },
    {
      "cell_type": "markdown",
      "metadata": {
        "id": "qhmCp8Hfq6Du"
      },
      "source": [
        "__5*.__ Написать на Python функцию для перемножения двух произвольных матриц, не используя NumPy."
      ]
    },
    {
      "cell_type": "code",
      "metadata": {
        "id": "2RbK0oEP2iMq"
      },
      "source": [
        "def matrix_product(mtrx1, mtrx2):\n",
        "  if range(mtrx1.shape[1])!=mtrx2.shape[0]:\n",
        "    print \"Матрицы не могут быть перемножены\"        \n",
        "  else:\n",
        "    for i in range(mtrx1.shape[0]):\n",
        "      for j in range(mtrx2.shape[1]):\n",
        "        for k in range(mtrx1.shape[1]):\n",
        "          new_mtrx[i][j] += mtrx1[i][k] * mtrx2[k][j]\n",
        "    return new_mtrx"
      ],
      "execution_count": null,
      "outputs": []
    }
  ]
}