{
  "nbformat": 4,
  "nbformat_minor": 0,
  "metadata": {
    "colab": {
      "name": "lesson_4(2).ipynb",
      "provenance": [],
      "collapsed_sections": [],
      "authorship_tag": "ABX9TyN27geApjqJbmIlHCYkDMq6",
      "include_colab_link": true
    },
    "kernelspec": {
      "name": "python3",
      "display_name": "Python 3"
    },
    "language_info": {
      "name": "python"
    }
  },
  "cells": [
    {
      "cell_type": "markdown",
      "metadata": {
        "id": "view-in-github",
        "colab_type": "text"
      },
      "source": [
        "<a href=\"https://colab.research.google.com/github/botkin92/Linear_algebra/blob/lesson_4/lesson_4(2).ipynb\" target=\"_parent\"><img src=\"https://colab.research.google.com/assets/colab-badge.svg\" alt=\"Open In Colab\"/></a>"
      ]
    },
    {
      "cell_type": "markdown",
      "metadata": {
        "id": "R1R9Qv0fWfhO"
      },
      "source": [
        "__1.__ Решить систему уравнений методом Крамера:\n",
        "\n",
        "   а) $\\begin{cases}\n",
        "x_{1}-2x_{2}=1 \\\\\n",
        "3x_{1}-4x_{2}=7\n",
        "\\end{cases}$\n",
        "    \n",
        "   б) $\\begin{cases}\n",
        "2x_{1}-x_{2}+5x_{3}=10 \\\\\n",
        "x_{1}+x_{2}-3x_{3}=-2 \\\\\n",
        "2x_{1}+4x_{2}+x_{3}=1\n",
        "\\end{cases}$"
      ]
    },
    {
      "cell_type": "markdown",
      "metadata": {
        "id": "HBF1vlv6Wlim"
      },
      "source": [
        "а) \n",
        "Найдем определитель матрицы коэффициентов:\n",
        "\n",
        "$detA=\\begin{vmatrix}\n",
        "1 & -2\\\\ \n",
        "3 & -4\n",
        "\\end{vmatrix}\n",
        "=1 \\cdot (-4) -(-2) \\cdot 3 =2 \\neq 0,$ - система совместна. \n",
        "\n",
        "Найдем определители $detA_{1}$, $detA_{2}$, $detA_{3}$:  \n",
        "$detA_{1}=\\begin{vmatrix}\n",
        "1 & -2\\\\ \n",
        "7 & -4\n",
        "\\end{vmatrix}=\n",
        "(-4) + 14=10,$\n",
        "\n",
        "$detA_{2}=\\begin{vmatrix}\n",
        "1 & 1\\\\ \n",
        "3 & 7\n",
        "\\end{vmatrix}=\n",
        "7-3=4,$\n",
        "\n",
        "Найдем решение по формулам Крамера:  \n",
        "$x_{1} = \\frac{detA_{1}}{detA} = \\frac{10}{2}=5,$  \n",
        "$x_{2} = \\frac{detA_{2}}{detA} = \\frac{4}{2}=2.$"
      ]
    },
    {
      "cell_type": "markdown",
      "metadata": {
        "id": "KOHvE9P-aHVN"
      },
      "source": [
        "б) Количество уравнений совпадает с количеством неизвестных. Найдем определитель матрицы коэффициентов:\n",
        "\n",
        "$detB=\\begin{vmatrix}\n",
        "2 & -1 & 5\\\\ \n",
        "1 & 1 & -3\\\\ \n",
        "2 & 4 & 1\n",
        "\\end{vmatrix}=\n",
        "2\\begin{vmatrix}\n",
        "1 & -3\\\\ \n",
        "4 & 1 \n",
        "\\end{vmatrix}-\n",
        "(-1)\\begin{vmatrix}\n",
        "1 & -3\\\\ \n",
        "2 & 1 \n",
        "\\end{vmatrix}+\n",
        "5\\begin{vmatrix}\n",
        "1 & 1 \\\\ \n",
        "2 & 4\n",
        "\\end{vmatrix}=2(1 \\cdot 1-(-3)\\cdot 4)+1(1\\cdot 1-(-3)\\cdot 2)+5(1\\cdot 4-1\\cdot 2)=26+7+10=43\\neq 0,$ - система совместна.\n",
        "\n",
        "Найдем определители $detB_{1}$, $detB_{2}$, $detB_{3}$:\n",
        "\n",
        "$detB_{1}=\\begin{vmatrix}\n",
        "10 & -1 & 5\\\\ \n",
        "-2 & 1 & -3\\\\ \n",
        "1 & 4 & 1\n",
        "\\end{vmatrix}=\n",
        "10\\begin{vmatrix}\n",
        "1 & -3\\\\ \n",
        "4 & 1 \n",
        "\\end{vmatrix}-\n",
        "(-1)\\begin{vmatrix}\n",
        "-2 & -3\\\\ \n",
        "1 & 1 \n",
        "\\end{vmatrix}+\n",
        "5\\begin{vmatrix}\n",
        "-2 & 1 \\\\ \n",
        "1 & 4\n",
        "\\end{vmatrix}=10(1 \\cdot 1-(-3)\\cdot 4)+1((-2)\\cdot 1-(-3)\\cdot 1)+5((-2)\\cdot 4-1\\cdot 1)=130+1-45=86,$\n",
        "\n",
        "$detB_{2}=\\begin{vmatrix}\n",
        "2 & 10 & 5\\\\ \n",
        "1 & -2 & -3\\\\ \n",
        "2 & 1 & 1\n",
        "\\end{vmatrix}=\n",
        "2\\begin{vmatrix}\n",
        "-2 & -3\\\\ \n",
        "1 & 1 \n",
        "\\end{vmatrix}-\n",
        "10\\begin{vmatrix}\n",
        "1 & -3\\\\ \n",
        "2 & 1 \n",
        "\\end{vmatrix}+\n",
        "5\\begin{vmatrix}\n",
        "1 & -2 \\\\ \n",
        "2 & 1\n",
        "\\end{vmatrix}=2((-2) \\cdot 1-(-3)\\cdot 1)-10(1\\cdot 1-(-3) \\cdot 2)+5(1\\cdot 1-(-2)\\cdot 2)=2-70+25=-43,$\n",
        "\n",
        "$detB_{3}=\\begin{vmatrix}\n",
        "2 & -1 & 10\\\\ \n",
        "1 & 1 & -2\\\\ \n",
        "2 & 4 & 1\n",
        "\\end{vmatrix}=\n",
        "2\\begin{vmatrix}\n",
        "1 & -2\\\\ \n",
        "4 & 1\n",
        "\\end{vmatrix}-\n",
        "(-1)\\begin{vmatrix}\n",
        "1 & -2\\\\ \n",
        "2 & 1 \n",
        "\\end{vmatrix}+\n",
        "10\\begin{vmatrix}\n",
        "1 & 1 \\\\ \n",
        "2 & 4\n",
        "\\end{vmatrix}=2(1 \\cdot 1-(-2)\\cdot 4)+(1\\cdot 1-(-2)\\cdot 2)+10(1\\cdot 4-1\\cdot 2)=18+5+20=43.$\n",
        "\n",
        "Найдем решение по формулам Крамера:\n",
        "\n",
        "$x_{1} = \\frac{detB_{1}}{detB} = \\frac{86}{43}=2,$\n",
        "\n",
        "$x_{2} = \\frac{detB_{2}}{detB} = \\frac{(-43)}{43}=-1,$\n",
        "\n",
        "$x_{3} = \\frac{detB_{3}}{detB} = \\frac{43}{43}=1.$"
      ]
    },
    {
      "cell_type": "markdown",
      "metadata": {
        "id": "5bTLcMzQWlsz"
      },
      "source": [
        "__2*.__ Найти $L$-матрицу $LU$-разложения для матрицы коэффициентов:\n",
        "\n",
        "   а)$$\\begin{pmatrix}\n",
        "1 & 2 & 4 \\\\ \n",
        "2 & 9 & 12 \\\\ \n",
        "3 & 26 & 30\n",
        "\\end{pmatrix}$$\n",
        "    \n",
        "   б)$$\\begin{pmatrix}\n",
        "1 & 1 & 2 & 4\\\\ \n",
        "2 & 5 & 8 & 9\\\\ \n",
        "3 & 18 & 29 & 18\\\\\n",
        "4 & 22 & 53 & 33\n",
        "\\end{pmatrix}$$"
      ]
    },
    {
      "cell_type": "markdown",
      "metadata": {
        "id": "4X_jk_V4a5U6"
      },
      "source": [
        "а) Первую строку умножим на $2$ и вычтем ее из второго уравнения. Затем вычтем из третьего уравнения первое, домноженное на $3$.  \n",
        "Матрица коэффициентов будет иметь вид  \n",
        "$\\begin{pmatrix}\n",
        "1 & 2 & 4 \\\\ \n",
        "0 & 5 & 4 \\\\ \n",
        "0 & 20 & 18\n",
        "\\end{pmatrix},$  \n",
        "а матрица $L$ —  \n",
        "$\\begin{pmatrix}\n",
        "1 & 0 & 0 \\\\ \n",
        "2 & 1 & 0 \\\\ \n",
        "3 & l_{32} & 1\n",
        "\\end{pmatrix}.$"
      ]
    },
    {
      "cell_type": "markdown",
      "metadata": {
        "id": "06GV_pwybsxY"
      },
      "source": [
        "Далее умножим вторую строку на $4$ и вычтем ее из третьей. В итоге получим:  \n",
        "$U=\\begin{pmatrix}\n",
        "1 & 2 & 4 \\\\ \n",
        "0 & 5 & 4 \\\\ \n",
        "0 & 0 & 2\n",
        "\\end{pmatrix},$  \n",
        "\n",
        "$L=\\begin{pmatrix}\n",
        "1 & 0 & 0 \\\\ \n",
        "2 & 1 & 0 \\\\ \n",
        "3 & 4 & 1\n",
        "\\end{pmatrix}.$"
      ]
    },
    {
      "cell_type": "markdown",
      "metadata": {
        "id": "BZfi_X_5csgU"
      },
      "source": [
        "б)  \n",
        "Матрица коэффициентов:  \n",
        "$\\begin{pmatrix}\n",
        "1 & 1 & 2 & 4\\\\ \n",
        "0 & 3 & 4 & 1\\\\ \n",
        "0 & 15 & 23 & 6\\\\\n",
        "0 & 18 & 45 & 17\n",
        "\\end{pmatrix},$  \n",
        "матрица $L$:  \n",
        "$\\begin{pmatrix}\n",
        "1 & 0 & 0 & 0\\\\ \n",
        "2 & 1 & 0 & 0\\\\ \n",
        "3 & l_{32} & 1 & 0\\\\\n",
        "4 & l_{42} & l_{43} & 1\n",
        "\\end{pmatrix}.$"
      ]
    },
    {
      "cell_type": "markdown",
      "metadata": {
        "id": "Codr9tRgeVqO"
      },
      "source": [
        "Матрица коэффициентов:  \n",
        "$\\begin{pmatrix}\n",
        "1 & 1 & 2 & 4\\\\ \n",
        "0 & 3 & 4 & 1\\\\ \n",
        "0 & 0 & 3 & 1\\\\\n",
        "0 & 0 & 21 & 11\n",
        "\\end{pmatrix},$  \n",
        "матрица $L$:  \n",
        "$\\begin{pmatrix}\n",
        "1 & 0 & 0 & 0\\\\ \n",
        "2 & 1 & 0 & 0\\\\ \n",
        "3 & 5 & 1 & 0\\\\\n",
        "4 & 6 & l_{43} & 1\n",
        "\\end{pmatrix}.$"
      ]
    },
    {
      "cell_type": "markdown",
      "metadata": {
        "id": "jaaCMrYye_7G"
      },
      "source": [
        "U = $\\begin{pmatrix}\n",
        "1 & 1 & 2 & 4\\\\ \n",
        "0 & 3 & 4 & 1\\\\ \n",
        "0 & 0 & 3 & 1\\\\\n",
        "0 & 0 & 0 & 4\n",
        "\\end{pmatrix},$  \n",
        "L = $\\begin{pmatrix}\n",
        "1 & 0 & 0 & 0\\\\ \n",
        "2 & 1 & 0 & 0\\\\ \n",
        "3 & 5 & 1 & 0\\\\\n",
        "4 & 6 & 7 & 1\n",
        "\\end{pmatrix}.$"
      ]
    },
    {
      "cell_type": "markdown",
      "metadata": {
        "id": "r575-YTTgKqR"
      },
      "source": [
        "__3*.__ Решить систему линейных уравнений методом $LU$-разложения\n",
        "\n",
        "$$\\begin{cases}\n",
        "2x_{1}+x_{2}+3x_{3}=1 \\\\\n",
        "11x_{1}+7x_{2}+5x_{3}=-6 \\\\\n",
        "9x_{1}+8x_{2}+4x_{3}=-5\n",
        "\\end{cases}$$\n",
        "\n",
        "__4*.__ Решить систему линейных уравнений методом Холецкого\n",
        "\n",
        "$$\\begin{cases}\n",
        "81x_{1}-45x_{2}+45x_{3}=531 \\\\\n",
        "-45x_{1}+50x_{2}-15x_{3}=-460 \\\\\n",
        "45x_{1}-15x_{2}+38x_{3}=193\n",
        "\\end{cases}$$\n",
        "\n",
        "__5*.__ Написать на Python программу с реализацией одного из изученных алгоритмов решения СЛАУ."
      ]
    }
  ]
}