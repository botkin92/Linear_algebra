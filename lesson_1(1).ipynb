{
  "nbformat": 4,
  "nbformat_minor": 0,
  "metadata": {
    "colab": {
      "name": "lesson_1(1).ipynb",
      "provenance": [],
      "collapsed_sections": [],
      "authorship_tag": "ABX9TyM45vqGwisTdSj261jljcDo",
      "include_colab_link": true
    },
    "kernelspec": {
      "name": "python3",
      "display_name": "Python 3"
    },
    "language_info": {
      "name": "python"
    }
  },
  "cells": [
    {
      "cell_type": "markdown",
      "metadata": {
        "id": "view-in-github",
        "colab_type": "text"
      },
      "source": [
        "<a href=\"https://colab.research.google.com/github/botkin92/Linear_algebra/blob/lesson_1/lesson_1(1).ipynb\" target=\"_parent\"><img src=\"https://colab.research.google.com/assets/colab-badge.svg\" alt=\"Open In Colab\"/></a>"
      ]
    },
    {
      "cell_type": "markdown",
      "metadata": {
        "id": "NaYoffkueD8U"
      },
      "source": [
        "__1.__ Исследовать на линейную зависимость:\n",
        "\n",
        "$$f_{1}(x)=e^{x}, f_{2}(x)=1, f_{3}(x)=x+1, f_{4}(x)=x-e^{x}.$$\n"
      ]
    },
    {
      "cell_type": "markdown",
      "metadata": {
        "id": "oSJp4xXaunt5"
      },
      "source": [
        "Представим функцию f4 из функций f1, f2 и f3:\n",
        "$$f_{4}(x)=f_{3}(x)-f_{2}(x)-f_{1}(x)=(x+1)-1-e^{x}=x-e^{x}$$"
      ]
    },
    {
      "cell_type": "markdown",
      "metadata": {
        "id": "CgQ0fKYrvIJC"
      },
      "source": [
        "Функции являются линейно зависимыми, т.к. ф-ия f4 являлся линейной комбинацией остальных ф-ий"
      ]
    },
    {
      "cell_type": "markdown",
      "metadata": {
        "id": "cECfCSANkVqR"
      },
      "source": [
        "__2.__ Исследовать на линейную зависимость:\n",
        "$$f_{1}(x)=2, f_{2}(x)=x, f_{3}(x)=x^{2}, f_{4}(x)=(x+1)^{2}$$"
      ]
    },
    {
      "cell_type": "markdown",
      "metadata": {
        "id": "e-4i1yufw6Zh"
      },
      "source": [
        "Представим функцию f4 из функций f1, f2 и f3 через формулу сокращенного умножения:\n",
        "$$f_{4}(x)=f_{3}(x)+2f_{2}(x)+0.5f_{1}(x)=x^2+2x+1=(x+1)^2$$"
      ]
    },
    {
      "cell_type": "markdown",
      "metadata": {
        "id": "nfdOhTlF8w8X"
      },
      "source": [
        "Функции являются, также, линейно зависимыми"
      ]
    },
    {
      "cell_type": "markdown",
      "metadata": {
        "id": "zhxMIdeh9OGy"
      },
      "source": [
        "__3.__ Найти координаты вектора $x = (2, 3, 5)\\in \\mathbb{R}^{3}$ в базисе $b_{1}=(0, 0, 10)$, $b_{2}=(2, 0, 0)$, $b_{3}=(0, 1, 0)$."
      ]
    },
    {
      "cell_type": "markdown",
      "metadata": {
        "id": "n_UbcTX19O8L"
      },
      "source": [
        "$$x=(2, 3, 5)=1b_{2}+3b_{3}+0.5b_{1},$$\n",
        "т.е. координатами вектора $x$ в базисе $b_{1}$, $b_{2}$, $b_{3}$ являются $0.5$, $1$, $3$."
      ]
    },
    {
      "cell_type": "markdown",
      "metadata": {
        "id": "fWpJ_qrd82NU"
      },
      "source": [
        "__4.__ Найти координаты вектора $3x^{2}-2x+2\\in\\mathbb{R}^{3}[x]$:\n",
        "\n",
        "а) в базисе $1$, $x$, $x^{2}$;\n",
        "\n",
        "б) в базисе $x^{2}$, $x-1$, $1$."
      ]
    },
    {
      "cell_type": "markdown",
      "metadata": {
        "id": "7aS5_Yv2AVRy"
      },
      "source": [
        "а) координатами вектора $x$ в базисе $1$, $x$, $x^{2}$ являются $2$, $-2$, $3$.   \n",
        "б) в базисе $x^{2}$, $x-1$, $1$ являются $3$, $-2$, $0$."
      ]
    },
    {
      "cell_type": "markdown",
      "metadata": {
        "id": "1X_JqJZ8AQy0"
      },
      "source": [
        "__5.__ Установить, является ли линейным подпространством:\n",
        "\n",
        "а) совокупность всех векторов трехмерного пространства, у которых по крайней мере одна из первых двух координат равна нулю;\n",
        "    \n",
        "б) все векторы, являющиеся линейными комбинациями данных векторов $\\{u_{1}, u_{2}, \\ldots, u_{n}\\}$."
      ]
    },
    {
      "cell_type": "markdown",
      "metadata": {
        "id": "VxldDrKoCSh8"
      },
      "source": [
        "а) Проверим верны ли утверждения для подпространства для произвольных векторов (0, a, b) и (c, 0, d), где $a, b, c, d \\in \\mathbb{R}$  \n",
        "$$(0, a, b)+(c, 0, b) = (c, a, 2b),$$ \n",
        "$$\\alpha\\cdot (0, a, b) = (0, \\alpha a, \\alpha b).$$\n",
        " \n",
        "Полученная сумма векторов не является подпространством указанного трехмерного пространства."
      ]
    },
    {
      "cell_type": "markdown",
      "metadata": {
        "id": "Eo4Ba9t3GJpW"
      },
      "source": [
        "б) Пусть вектора принадлежат подмножеству L: $$\\{u1,u2,…,un\\} \\in L$$  Тогда все новые вектора полученные линейными комбинациями данных векторов {u1,u2,…,un} будут линейно зависимыми, а значит принадлежат тому же подпространству (и тому же подмножеству L)."
      ]
    }
  ]
}