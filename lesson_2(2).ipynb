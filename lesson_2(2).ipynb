{
  "nbformat": 4,
  "nbformat_minor": 0,
  "metadata": {
    "colab": {
      "name": "lesson_2(2).ipynb",
      "provenance": [],
      "collapsed_sections": [],
      "authorship_tag": "ABX9TyMN9syJyRwnY482v5KVaF1+",
      "include_colab_link": true
    },
    "kernelspec": {
      "name": "python3",
      "display_name": "Python 3"
    },
    "language_info": {
      "name": "python"
    }
  },
  "cells": [
    {
      "cell_type": "markdown",
      "metadata": {
        "id": "view-in-github",
        "colab_type": "text"
      },
      "source": [
        "<a href=\"https://colab.research.google.com/github/botkin92/Linear_algebra/blob/lesson_2/lesson_2(2).ipynb\" target=\"_parent\"><img src=\"https://colab.research.google.com/assets/colab-badge.svg\" alt=\"Open In Colab\"/></a>"
      ]
    },
    {
      "cell_type": "code",
      "metadata": {
        "id": "skry8miFqP_N"
      },
      "source": [
        "import numpy as np"
      ],
      "execution_count": null,
      "outputs": []
    },
    {
      "cell_type": "markdown",
      "metadata": {
        "id": "KS1MrasNq0ht"
      },
      "source": [
        "Все задания рекомендуется выполнять вручную, затем проверяя полученные результаты с использованием Numpy.\n",
        "\n",
        "__1.__ Вычислить определитель:\n",
        "\n",
        "   a)\n",
        "\n",
        "$$\\begin{vmatrix}\n",
        "sinx & -cosx\\\\ \n",
        "cosx & sinx\n",
        "\\end{vmatrix};$$\n",
        "\n",
        "   б)\n",
        "    \n",
        "$$\\begin{vmatrix}\n",
        "4 & 2 & 3\\\\ \n",
        "0 & 5 & 1\\\\ \n",
        "0 & 0 & 9\n",
        "\\end{vmatrix};$$\n",
        "    \n",
        "   в)\n",
        "\n",
        "$$\\begin{vmatrix}\n",
        "1 & 2 & 3\\\\ \n",
        "4 & 5 & 6\\\\ \n",
        "7 & 8 & 9\n",
        "\\end{vmatrix}.$$"
      ]
    },
    {
      "cell_type": "markdown",
      "metadata": {
        "id": "W3gcaL_8uZJO"
      },
      "source": [
        "a)\n",
        "$$\\begin{vmatrix}\n",
        "sinx & -cosx\\\\ \n",
        "cosx & sinx\n",
        "\\end{vmatrix}=sin^2x + cos^2x = 1$$  \n",
        "б)\n",
        "$$\\begin{vmatrix}\n",
        "4 & 2 & 3\\\\ \n",
        "0 & 5 & 1\\\\ \n",
        "0 & 0 & 9\n",
        "\\end{vmatrix}= 4(5*9-0)-2(0-0)+3(0-0)=180$$\n",
        "в)\n",
        "$$\\begin{vmatrix}\n",
        "1 & 2 & 3\\\\ \n",
        "4 & 5 & 6\\\\ \n",
        "7 & 8 & 9\n",
        "\\end{vmatrix}=7(2*6-3*5)-8(1*6-3*4)+9(1*5-2*4)=-21+48-27=0$$"
      ]
    },
    {
      "cell_type": "code",
      "metadata": {
        "colab": {
          "base_uri": "https://localhost:8080/"
        },
        "id": "tcefP1EbxIsC",
        "outputId": "7cd6f6e4-cc13-49f7-81ca-40366e57d430"
      },
      "source": [
        "# проверка\n",
        "B = np.array([[4, 2, 3], [0, 5, 1], [0, 0, 9]])\n",
        "np.linalg.det(B)"
      ],
      "execution_count": null,
      "outputs": [
        {
          "output_type": "execute_result",
          "data": {
            "text/plain": [
              "180.0"
            ]
          },
          "metadata": {},
          "execution_count": 7
        }
      ]
    },
    {
      "cell_type": "code",
      "metadata": {
        "colab": {
          "base_uri": "https://localhost:8080/"
        },
        "id": "hSMGHGipx5QB",
        "outputId": "3410ca31-298a-4d54-8b54-d55890ae61d1"
      },
      "source": [
        "V = np.array([[1, 2, 3], [4, 5, 6], [7, 8, 9]])\n",
        "np.linalg.det(V)"
      ],
      "execution_count": null,
      "outputs": [
        {
          "output_type": "execute_result",
          "data": {
            "text/plain": [
              "0.0"
            ]
          },
          "metadata": {},
          "execution_count": 9
        }
      ]
    },
    {
      "cell_type": "markdown",
      "metadata": {
        "id": "MGUsqLSYrHnv"
      },
      "source": [
        "__2.__ Определитель матрицы $A$ равен $4$. Найти:\n",
        "\n",
        "   а) $det(A^{2})$;\n",
        "    \n",
        "   б) $det(A^{T})$;\n",
        "    \n",
        "   в) $det(2A)$."
      ]
    },
    {
      "cell_type": "markdown",
      "metadata": {
        "id": "xtEETej4CPLa"
      },
      "source": [
        "а) $det(A^2)=det(A*A)=detA*detA=4*4=16$  \n",
        "б) $det(A^{T})=detA=4$  \n",
        "в) $det(2A)$ - не нашел решения в общем виде."
      ]
    },
    {
      "cell_type": "markdown",
      "metadata": {
        "id": "WS8gFnfTCPcW"
      },
      "source": [
        "__3.__  Доказать, что матрица\n",
        "\n",
        "$$\\begin{pmatrix}\n",
        "-2 & 7 & -3\\\\ \n",
        "4 & -14 & 6\\\\ \n",
        "-3 & 7 & 13\n",
        "\\end{pmatrix}$$\n",
        "   \n",
        "вырожденная."
      ]
    },
    {
      "cell_type": "markdown",
      "metadata": {
        "id": "ONudDbm3EaXx"
      },
      "source": [
        "Матрица будет вырожденной если её определитель равен 0."
      ]
    },
    {
      "cell_type": "code",
      "metadata": {
        "colab": {
          "base_uri": "https://localhost:8080/"
        },
        "id": "XaSIVWCgFCAW",
        "outputId": "8a22312d-3e10-4df9-b45b-3c6eb7b3d97d"
      },
      "source": [
        "A = np.array([[-2, 7, -3], [4, -14, 6], [-3, 7, 13]])\n",
        "np.linalg.det(A)"
      ],
      "execution_count": null,
      "outputs": [
        {
          "output_type": "execute_result",
          "data": {
            "text/plain": [
              "0.0"
            ]
          },
          "metadata": {},
          "execution_count": 10
        }
      ]
    },
    {
      "cell_type": "markdown",
      "metadata": {
        "id": "Hs0TBTsMFWwU"
      },
      "source": [
        "Данная матрица вырожденная."
      ]
    },
    {
      "cell_type": "markdown",
      "metadata": {
        "id": "ZFgpcXcHEaeN"
      },
      "source": [
        "__4.__ Найти ранг матрицы:\n",
        "\n",
        "   а) $\\begin{pmatrix}\n",
        "1 & 2 & 3\\\\ \n",
        "1 & 1 & 1\\\\ \n",
        "2 & 3 & 4\n",
        "\\end{pmatrix};$\n",
        "\n",
        "   б) $\\begin{pmatrix}\n",
        "0 & 0 & 2 & 1\\\\ \n",
        "0 & 0 & 2 & 2\\\\ \n",
        "0 & 0 & 4 & 3\\\\ \n",
        "2 & 3 & 5 & 6\n",
        "\\end{pmatrix}.$"
      ]
    },
    {
      "cell_type": "markdown",
      "metadata": {
        "id": "Lv9zpAI5FmJ6"
      },
      "source": [
        "а)  \n",
        "$\\begin{pmatrix}\n",
        "1 & 2 & 3\\\\ \n",
        "1 & 1 & 1\\\\ \n",
        "2 & 3 & 4\n",
        "\\end{pmatrix}$  \n",
        "Третья строка является суммой первой и второй строк, а значит, ее можно отбросить:  \n",
        "$\\begin{pmatrix}\n",
        "1 & 2 & 3\\\\ \n",
        "1 & 1 & 1\n",
        "\\end{pmatrix}$  \n",
        "Из первой строки вычтем вторую и поменяем местами:  \n",
        "$\\begin{pmatrix}\n",
        "1 & 1 & 1\\\\\n",
        "0 & 1 & 2\n",
        "\\end{pmatrix}$  \n",
        "Ранг матрицы равен 2"
      ]
    },
    {
      "cell_type": "markdown",
      "metadata": {
        "id": "EPxAluHLJjPf"
      },
      "source": [
        "б)  \n",
        "$\\begin{pmatrix}\n",
        "0 & 0 & 2 & 1\\\\ \n",
        "0 & 0 & 2 & 2\\\\ \n",
        "0 & 0 & 4 & 3\\\\ \n",
        "2 & 3 & 5 & 6\n",
        "\\end{pmatrix}$  \n",
        "Третья строка является суммой первой и второй строк, а значит, ее можно отбросить:  \n",
        "$\\begin{pmatrix}\n",
        "0 & 0 & 2 & 1\\\\ \n",
        "0 & 0 & 2 & 2\\\\ \n",
        "2 & 3 & 5 & 6\n",
        "\\end{pmatrix}$  \n",
        "Из второй строки вычтем первую и поменяем все строки местами:  \n",
        "$\\begin{pmatrix}\n",
        "2 & 3 & 5 & 6\\\\ \n",
        "0 & 0 & 2 & 1\\\\\n",
        "0 & 0 & 0 & 1\n",
        "\\end{pmatrix}$  \n",
        "Ранг матрицы - 3."
      ]
    }
  ]
}