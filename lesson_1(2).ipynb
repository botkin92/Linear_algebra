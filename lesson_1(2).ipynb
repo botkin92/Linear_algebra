{
  "nbformat": 4,
  "nbformat_minor": 0,
  "metadata": {
    "colab": {
      "name": "lesson_1(2).ipynb",
      "provenance": [],
      "collapsed_sections": [],
      "authorship_tag": "ABX9TyMsL6LcI7/KtfBz+wiN4ZI3",
      "include_colab_link": true
    },
    "kernelspec": {
      "name": "python3",
      "display_name": "Python 3"
    },
    "language_info": {
      "name": "python"
    }
  },
  "cells": [
    {
      "cell_type": "markdown",
      "metadata": {
        "id": "view-in-github",
        "colab_type": "text"
      },
      "source": [
        "<a href=\"https://colab.research.google.com/github/botkin92/Linear_algebra/blob/lesson_1/lesson_1(2).ipynb\" target=\"_parent\"><img src=\"https://colab.research.google.com/assets/colab-badge.svg\" alt=\"Open In Colab\"/></a>"
      ]
    },
    {
      "cell_type": "code",
      "metadata": {
        "id": "fFgA-eH99h18"
      },
      "source": [
        "import numpy as np"
      ],
      "execution_count": null,
      "outputs": []
    },
    {
      "cell_type": "markdown",
      "metadata": {
        "id": "BAb8yLEf9tg9"
      },
      "source": [
        "1. Найти скалярное произведение векторов  x,y∈R :\n",
        "а)  x=(0,−3,6), y=(−4,7,9); \n",
        "б)  x=(7,−4,0,1), y=(−3,1,11,2)."
      ]
    },
    {
      "cell_type": "code",
      "metadata": {
        "id": "A9VxArVS99n4"
      },
      "source": [
        "# а)\n",
        "x = np.array([0, -3, 6])\n",
        "y = np.array([-4, 7, 9])"
      ],
      "execution_count": null,
      "outputs": []
    },
    {
      "cell_type": "code",
      "metadata": {
        "id": "PrKqemeH-LuH"
      },
      "source": [
        "sum = 0\n",
        "def scalar_product(vec1, vec2):\n",
        "  sum = 0\n",
        "  for i in range(len(vec1)):\n",
        "    sum += vec1[i] * vec2[i]\n",
        "  return sum"
      ],
      "execution_count": null,
      "outputs": []
    },
    {
      "cell_type": "code",
      "metadata": {
        "colab": {
          "base_uri": "https://localhost:8080/"
        },
        "id": "DUxBMhSCGKLQ",
        "outputId": "c4b95f8a-ab0c-4033-9f28-ecf6b3e428ae"
      },
      "source": [
        "x_y = scalar_product(x, y)\n",
        "x_y"
      ],
      "execution_count": null,
      "outputs": [
        {
          "output_type": "execute_result",
          "data": {
            "text/plain": [
              "33"
            ]
          },
          "metadata": {},
          "execution_count": 6
        }
      ]
    },
    {
      "cell_type": "code",
      "metadata": {
        "id": "UWWtQDCNCbYk"
      },
      "source": [
        "# б)\n",
        "x = np.array([7, -4, 0, 1])\n",
        "y = np.array([-3, 1, 11, 2])"
      ],
      "execution_count": null,
      "outputs": []
    },
    {
      "cell_type": "code",
      "metadata": {
        "colab": {
          "base_uri": "https://localhost:8080/"
        },
        "id": "0QftIsejCwVJ",
        "outputId": "a1badf61-a150-4064-dcfd-bec4f41eee55"
      },
      "source": [
        "x.dot(y)"
      ],
      "execution_count": null,
      "outputs": [
        {
          "output_type": "execute_result",
          "data": {
            "text/plain": [
              "-23"
            ]
          },
          "metadata": {},
          "execution_count": 8
        }
      ]
    },
    {
      "cell_type": "markdown",
      "metadata": {
        "id": "sA6qt5VE9v6z"
      },
      "source": [
        "2. Найти нормы векторов  (4,2,4)  и  (12,3,4)  и угол между ними."
      ]
    },
    {
      "cell_type": "code",
      "metadata": {
        "id": "kl5p6qb2DCwV"
      },
      "source": [
        "x2 = np.array([4, 2, 4])\n",
        "y2 = np.array([12, 3, 4])"
      ],
      "execution_count": null,
      "outputs": []
    },
    {
      "cell_type": "code",
      "metadata": {
        "id": "6cK_JWCpDl2l"
      },
      "source": [
        "# Найдем евклидову норму вектора x и y:\n",
        "x_sum, y_sum = 0, 0\n",
        "for i in range(len(x2)):\n",
        "  x_sum += x2[i] ** 2\n",
        "  y_sum += y2[i] ** 2\n",
        "x_norma = x_sum ** 0.5\n",
        "y_norma = y_sum ** 0.5"
      ],
      "execution_count": null,
      "outputs": []
    },
    {
      "cell_type": "code",
      "metadata": {
        "colab": {
          "base_uri": "https://localhost:8080/"
        },
        "id": "g6H4umS6E0BF",
        "outputId": "e8b10f6f-b749-4375-b1b2-7a2116e17d1e"
      },
      "source": [
        "x_norma, y_norma"
      ],
      "execution_count": null,
      "outputs": [
        {
          "output_type": "execute_result",
          "data": {
            "text/plain": [
              "(6.0, 13.0)"
            ]
          },
          "metadata": {},
          "execution_count": 11
        }
      ]
    },
    {
      "cell_type": "code",
      "metadata": {
        "colab": {
          "base_uri": "https://localhost:8080/"
        },
        "id": "Lm8wZcjCFnvA",
        "outputId": "446f2e80-759a-49fb-94c7-7fbaa656fc03"
      },
      "source": [
        "cos_phi = scalar_product(x2, y2) / (x_norma * y_norma)\n",
        "phi = np.arccos(cos_phi)\n",
        "cos_phi, phi"
      ],
      "execution_count": null,
      "outputs": [
        {
          "output_type": "execute_result",
          "data": {
            "text/plain": [
              "(0.8974358974358975, 0.45687400353266105)"
            ]
          },
          "metadata": {},
          "execution_count": 12
        }
      ]
    },
    {
      "cell_type": "markdown",
      "metadata": {
        "id": "yQHcth9P9ztm"
      },
      "source": [
        "3. Будет ли линейное пространство евклидовым, если за скалярное произведение принять:\n",
        "а) произведение длин векторов;\n",
        "б) утроенное обычное скалярное произведение векторов?"
      ]
    },
    {
      "cell_type": "markdown",
      "metadata": {
        "id": "r_n7PNKXTtXq"
      },
      "source": [
        "Проверим согласуются ли данные правила с аксиомами:  \n",
        "1) $(x,y)=(y,x);$<br>\n",
        "2) $(\\lambda x, y)=\\lambda(x, y);$<br>\n",
        "3) $(x_{1}+x_{2},y)=(x_{1},y)+(x_{2},y);$<br>\n",
        "4) $(x, x)\\geq0$, причем $(x,x)=0\\Leftrightarrow x=0.$"
      ]
    },
    {
      "cell_type": "code",
      "metadata": {
        "id": "74UVyU4NKrP6"
      },
      "source": [
        ""
      ],
      "execution_count": null,
      "outputs": []
    },
    {
      "cell_type": "markdown",
      "metadata": {
        "id": "TTTKZ3G392kv"
      },
      "source": [
        "4. Какие из нижеперечисленных векторов образуют ортонормированный базис в линейном пространстве  R3 :  \n",
        "а) $(1,0,0),(0,0,1);$ <br>\n",
        "б) $(1/\\sqrt{2},-1/\\sqrt{2},0),(1/\\sqrt{2},1/\\sqrt{2},0), (0,0,1);$<br>\n",
        "в) $(1/2, -1/2, 0), (0, 1/2, 1/2), (0,0,1);$<br>\n",
        "г) $(1,0,0),(0,1,0),(0,0,1)?$ "
      ]
    },
    {
      "cell_type": "markdown",
      "metadata": {
        "id": "NtqECJgoK2zf"
      },
      "source": [
        "Проверим вектора на ортонормированность согласно условию:\n",
        "$(e_{i}, e_{j})=0$ $\\forall$ $i\\neq j$ и $(e_{i},e_{i})=1$ $\\forall$ $i\\in[1, n].$"
      ]
    },
    {
      "cell_type": "code",
      "metadata": {
        "id": "ryjL2_7dKy0S"
      },
      "source": [
        "# а)\n",
        "e1 = np.array([1, 0, 0])\n",
        "e2 = np.array([0, 0, 1])"
      ],
      "execution_count": null,
      "outputs": []
    },
    {
      "cell_type": "code",
      "metadata": {
        "colab": {
          "base_uri": "https://localhost:8080/"
        },
        "id": "_fCYJXo3MiQT",
        "outputId": "29b77edb-f80f-40cf-e66d-0442acb6e9df"
      },
      "source": [
        "e1_e2 = scalar_product(e1, e2)\n",
        "e1_e2"
      ],
      "execution_count": null,
      "outputs": [
        {
          "output_type": "execute_result",
          "data": {
            "text/plain": [
              "0"
            ]
          },
          "metadata": {},
          "execution_count": 14
        }
      ]
    },
    {
      "cell_type": "code",
      "metadata": {
        "colab": {
          "base_uri": "https://localhost:8080/"
        },
        "id": "yrgxdgmWMvu7",
        "outputId": "4c9e54b0-bad5-42ae-913c-68f68c45eff4"
      },
      "source": [
        "e1_e1 = scalar_product(e1, e1)\n",
        "e2_e2 = scalar_product(e2, e2)\n",
        "e1_e1, e2_e2"
      ],
      "execution_count": null,
      "outputs": [
        {
          "output_type": "execute_result",
          "data": {
            "text/plain": [
              "(1, 1)"
            ]
          },
          "metadata": {},
          "execution_count": 15
        }
      ]
    },
    {
      "cell_type": "markdown",
      "metadata": {
        "id": "fg31ReGbM6cI"
      },
      "source": [
        "Вектора e1 и e2 образуют ортонормированный базис"
      ]
    },
    {
      "cell_type": "code",
      "metadata": {
        "id": "jl-5-eSzNZvq"
      },
      "source": [
        "# б)\n",
        "e1 = np.array([1/(2**0.5), -1/(2**0.5), 0])\n",
        "e2 = np.array([1/(2**0.5), 1/(2**0.5), 0])\n",
        "e3 = np.array([0, 0, 1])"
      ],
      "execution_count": null,
      "outputs": []
    },
    {
      "cell_type": "code",
      "metadata": {
        "colab": {
          "base_uri": "https://localhost:8080/"
        },
        "id": "R5kA6ncdTKhA",
        "outputId": "3056949d-7169-4b5f-9732-17ee95e17400"
      },
      "source": [
        "e1.dot(e2), e1.dot(e3), e2.dot(e3)"
      ],
      "execution_count": null,
      "outputs": [
        {
          "output_type": "execute_result",
          "data": {
            "text/plain": [
              "(-2.2371143170757382e-17, 0.0, 0.0)"
            ]
          },
          "metadata": {},
          "execution_count": 24
        }
      ]
    },
    {
      "cell_type": "markdown",
      "metadata": {
        "id": "yXsUh6L3TTi1"
      },
      "source": [
        "Данные вектора не являются базисами"
      ]
    },
    {
      "cell_type": "code",
      "metadata": {
        "id": "6mOzJggAOGd_"
      },
      "source": [
        "# в)\n",
        "e1 = np.array([0.5, -0.5, 0])\n",
        "e2 = np.array([0, 0.5, 0.5])\n",
        "e3 = np.array([0, 0, 1])"
      ],
      "execution_count": null,
      "outputs": []
    },
    {
      "cell_type": "code",
      "metadata": {
        "colab": {
          "base_uri": "https://localhost:8080/"
        },
        "id": "pwNQs56DOgZj",
        "outputId": "7a301f30-12ae-4c6d-eb49-5b5b15eb04cf"
      },
      "source": [
        "e1.dot(e2), e1.dot(e3), e2.dot(e3)"
      ],
      "execution_count": null,
      "outputs": [
        {
          "output_type": "execute_result",
          "data": {
            "text/plain": [
              "(-0.25, 0.0, 0.5)"
            ]
          },
          "metadata": {},
          "execution_count": 19
        }
      ]
    },
    {
      "cell_type": "markdown",
      "metadata": {
        "id": "Qhcy7dBtP5Hv"
      },
      "source": [
        "Данные вектора не являются базисами"
      ]
    },
    {
      "cell_type": "code",
      "metadata": {
        "id": "5ZNO2KIqQA7F"
      },
      "source": [
        "# г)\n",
        "e1 = np.array([1, 0, 0])\n",
        "e2 = np.array([0, 1, 0])\n",
        "e3 = np.array([0, 0, 1])"
      ],
      "execution_count": null,
      "outputs": []
    },
    {
      "cell_type": "code",
      "metadata": {
        "colab": {
          "base_uri": "https://localhost:8080/"
        },
        "id": "vr4yHkh8QKjD",
        "outputId": "5241b479-07b8-4eb5-d5d3-be9c60ba9b3f"
      },
      "source": [
        "e1.dot(e2), e1.dot(e3), e2.dot(e3)"
      ],
      "execution_count": null,
      "outputs": [
        {
          "output_type": "execute_result",
          "data": {
            "text/plain": [
              "(0, 0, 0)"
            ]
          },
          "metadata": {},
          "execution_count": 21
        }
      ]
    },
    {
      "cell_type": "code",
      "metadata": {
        "colab": {
          "base_uri": "https://localhost:8080/"
        },
        "id": "MYZdIs_iQNAg",
        "outputId": "0fc5fa34-3066-4bb9-8c64-aa7ca48653e2"
      },
      "source": [
        "e1.dot(e1), e2.dot(e2), e3.dot(e3)"
      ],
      "execution_count": null,
      "outputs": [
        {
          "output_type": "execute_result",
          "data": {
            "text/plain": [
              "(1, 1, 1)"
            ]
          },
          "metadata": {},
          "execution_count": 22
        }
      ]
    },
    {
      "cell_type": "markdown",
      "metadata": {
        "id": "n0ks86cRP9Dz"
      },
      "source": [
        "Вектора e1, e2 и e3 образуют ортонормированный базис"
      ]
    }
  ]
}